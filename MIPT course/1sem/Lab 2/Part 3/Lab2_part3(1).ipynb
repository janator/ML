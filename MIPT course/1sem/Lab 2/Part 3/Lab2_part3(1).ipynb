{
  "nbformat": 4,
  "nbformat_minor": 0,
  "metadata": {
    "anaconda-cloud": {},
    "kernelspec": {
      "display_name": "Python 3",
      "language": "python",
      "name": "python3"
    },
    "language_info": {
      "codemirror_mode": {
        "name": "ipython",
        "version": 3
      },
      "file_extension": ".py",
      "mimetype": "text/x-python",
      "name": "python",
      "nbconvert_exporter": "python",
      "pygments_lexer": "ipython3",
      "version": "3.7.7"
    },
    "colab": {
      "name": "Lab2_part3.ipynb",
      "provenance": []
    }
  },
  "cells": [
    {
      "cell_type": "markdown",
      "metadata": {
        "id": "_P2ooyFtRqOY"
      },
      "source": [
        "## Lab 2"
      ]
    },
    {
      "cell_type": "markdown",
      "metadata": {
        "id": "TDBnWbrtRqOb"
      },
      "source": [
        "### Part 3. Poetry generation\n",
        "\n",
        "Let's try to generate some poetry using RNNs. \n",
        "\n",
        "You have several choices here: \n",
        "\n",
        "* The Shakespeare sonnets, file `sonnets.txt` available in the notebook directory.\n",
        "\n",
        "* Роман в стихах \"Евгений Онегин\" Александра Сергеевича Пушкина. В предобработанном виде доступен по [ссылке](https://github.com/attatrol/data_sources/blob/master/onegin.txt).\n",
        "\n",
        "* Some other text source, if it will be approved by the course staff.\n",
        "\n",
        "Text generation can be designed in several steps:\n",
        "    \n",
        "1. Data loading.\n",
        "2. Dictionary generation.\n",
        "3. Data preprocessing.\n",
        "4. Model (neural network) training.\n",
        "5. Text generation (model evaluation).\n"
      ]
    },
    {
      "cell_type": "code",
      "metadata": {
        "id": "w01JVTArRqOc"
      },
      "source": [
        "import string\n",
        "import os"
      ],
      "execution_count": 40,
      "outputs": []
    },
    {
      "cell_type": "markdown",
      "metadata": {
        "id": "mIsImBmPRqOd"
      },
      "source": [
        "### Data loading: Shakespeare"
      ]
    },
    {
      "cell_type": "markdown",
      "metadata": {
        "id": "Hzsk_NNKRqOe"
      },
      "source": [
        "Shakespeare sonnets are awailable at this [link](http://www.gutenberg.org/ebooks/1041?msg=welcome_stranger). In addition, they are stored in the same directory as this notebook (`sonnetes.txt`). Simple preprocessing is already done for you in the next cell: all technical info is dropped."
      ]
    },
    {
      "cell_type": "code",
      "metadata": {
        "collapsed": true,
        "id": "9y6M2WV_RqOe"
      },
      "source": [
        "if not os.path.exists('sonnets.txt'):\n",
        "    !wget https://raw.githubusercontent.com/girafe-ai/ml-mipt/master/homeworks_basic/Lab2_DL/sonnets.txt\n",
        "\n",
        "with open('sonnets.txt', 'r') as iofile:\n",
        "    text = iofile.readlines()\n",
        "    \n",
        "TEXT_START = 45\n",
        "TEXT_END = -368\n",
        "text = text[TEXT_START : TEXT_END]\n",
        "assert len(text) == 2616\n"
      ],
      "execution_count": 41,
      "outputs": []
    },
    {
      "cell_type": "markdown",
      "metadata": {
        "id": "3etN4g-dRqOf"
      },
      "source": [
        "In opposite to the in-class practice, this time we want to predict complex text. Let's reduce the complexity of the task and lowercase all the symbols.\n",
        "\n",
        "Now variable `text` is a list of strings. Join all the strings into one and lowercase it."
      ]
    },
    {
      "cell_type": "code",
      "metadata": {
        "id": "PRso34v6RqOg",
        "colab": {
          "base_uri": "https://localhost:8080/"
        },
        "outputId": "1e07000f-dc6c-45ce-d974-ad058523d1ac"
      },
      "source": [
        "# Join all the strings into one and lowercase it\n",
        "# Put result into variable text.\n",
        "\n",
        "# Your great code here\n",
        "text = [x.lower() for x in text]\n",
        "my_text = \"\".join([x.lower() for x in text])\n",
        "\n",
        "\n",
        "assert len(my_text) == 100225, 'Are you sure you have concatenated all the strings?'\n",
        "assert not any([x in set(my_text) for x in string.ascii_uppercase]), 'Uppercase letters are present'\n",
        "print('OK!')"
      ],
      "execution_count": 42,
      "outputs": [
        {
          "output_type": "stream",
          "text": [
            "OK!\n"
          ],
          "name": "stdout"
        }
      ]
    },
    {
      "cell_type": "markdown",
      "metadata": {
        "id": "SSBPYhDsRqOg"
      },
      "source": [
        "### Data loading: \"Евгений Онегин\"\n"
      ]
    },
    {
      "cell_type": "markdown",
      "metadata": {
        "id": "jbKUSZSRRqOh"
      },
      "source": [
        "In opposite to the in-class practice, this time we want to predict complex text. Let's reduce the complexity of the task and lowercase all the symbols.\n",
        "\n",
        "Now variable `text` is a list of strings. Join all the strings into one and lowercase it."
      ]
    },
    {
      "cell_type": "markdown",
      "metadata": {
        "id": "6bPNmuSURqOj"
      },
      "source": [
        "Put all the characters, that you've seen in the text, into variable `tokens`."
      ]
    },
    {
      "cell_type": "code",
      "metadata": {
        "id": "FG9w1I96RqOj"
      },
      "source": [
        "# dict <index>:<char>\n",
        "\n",
        "# dict <char>:<index>\n",
        "tokens = sorted(set(my_text))\n",
        "token_to_idx = {token: idx for idx, token in enumerate(tokens)}\n",
        "idx_to_token = {j: i for i, j in token_to_idx.items()}\n",
        "num_tokens = len(tokens)\n"
      ],
      "execution_count": 43,
      "outputs": []
    },
    {
      "cell_type": "markdown",
      "metadata": {
        "id": "yB0JO41RRqOj"
      },
      "source": [
        "Create dictionary `token_to_idx = {<char>: <index>}` and dictionary `idx_to_token = {<index>: <char>}`"
      ]
    },
    {
      "cell_type": "markdown",
      "metadata": {
        "id": "EaP_SlPtRqOk"
      },
      "source": [
        "*Comment: in this task we have only 38 different tokens, so let's use one-hot encoding.*"
      ]
    },
    {
      "cell_type": "markdown",
      "metadata": {
        "id": "VjyJUEaZRqOk"
      },
      "source": [
        "### Building the model"
      ]
    },
    {
      "cell_type": "markdown",
      "metadata": {
        "id": "GI5lzOZWRqOl"
      },
      "source": [
        "Now we want to build and train recurrent neural net which would be able to something similar to Shakespeare's poetry.\n",
        "\n",
        "Let's use vanilla RNN, similar to the one created during the lesson."
      ]
    },
    {
      "cell_type": "code",
      "metadata": {
        "id": "eMrXnJxBQnCy"
      },
      "source": [
        "import torch, torch.nn as nn\n",
        "import torch.nn.functional as F\n",
        "import numpy as np\n",
        "from IPython.display import clear_output\n",
        "from random import sample\n",
        "from matplotlib import pyplot as plt\n",
        "from random import sample"
      ],
      "execution_count": 44,
      "outputs": []
    },
    {
      "cell_type": "code",
      "metadata": {
        "id": "gcpKEStEW1lh"
      },
      "source": [
        "train_on_gpu = torch.cuda.is_available()"
      ],
      "execution_count": 45,
      "outputs": []
    },
    {
      "cell_type": "code",
      "metadata": {
        "id": "gHaNFMK1exVy"
      },
      "source": [
        "def to_matrix(text, pad=1): # text - list of words\n",
        "    text_ix = np.zeros([len(text), MAX_LENGTH]) + pad\n",
        "    for i in range(len(text)):\n",
        "        line_ix = [token_to_idx[c] for c in text[i]]\n",
        "        text_ix[i, :len(line_ix)] = line_ix\n",
        "\n",
        "    return text_ix"
      ],
      "execution_count": 58,
      "outputs": []
    },
    {
      "cell_type": "code",
      "metadata": {
        "collapsed": true,
        "id": "2X4Jpz_uRqOl"
      },
      "source": [
        "class CharRNNLoop(nn.Module):\n",
        "    def __init__(self, num_tokens=len(tokens), emb_size=16, rnn_num_units=64):\n",
        "        super(self.__class__, self).__init__()\n",
        "        self.num_units = rnn_num_units\n",
        "        self.emb = nn.Embedding(num_tokens, emb_size)\n",
        "        self.rnn = nn.RNN(emb_size, rnn_num_units, batch_first=True)\n",
        "        self.hid_to_logits = nn.Linear(rnn_num_units, num_tokens)\n",
        "        \n",
        "    def forward(self, x):\n",
        "        assert isinstance(x.data, torch.LongTensor)\n",
        "        h_seq, _ = self.rnn(self.emb(x))\n",
        "        next_logits = self.hid_to_logits(h_seq)\n",
        "        return next_logits\n",
        "\n",
        "    \n",
        "model = CharRNNLoop()\n",
        "opt = torch.optim.Adam(model.parameters())\n",
        "history = []"
      ],
      "execution_count": 48,
      "outputs": []
    },
    {
      "cell_type": "markdown",
      "metadata": {
        "id": "BM_oU4X3RqOl"
      },
      "source": [
        "Plot the loss function (axis X: number of epochs, axis Y: loss function)."
      ]
    },
    {
      "cell_type": "code",
      "metadata": {
        "collapsed": true,
        "id": "JJf9_ttRRqOl",
        "colab": {
          "base_uri": "https://localhost:8080/",
          "height": 279
        },
        "outputId": "82439410-98cd-44c1-c264-3d4014a046cd"
      },
      "source": [
        "max_iter = 1000\n",
        "batch_size = 128\n",
        "\n",
        "MAX_LENGTH = 256\n",
        "\n",
        "for i in range(max_iter):\n",
        "    \n",
        "    batch_ix = to_matrix(sample(text, 128))\n",
        "    batch_ix = torch.tensor(batch_ix, dtype=torch.int64)    \n",
        "    logp_seq = model(batch_ix)\n",
        "    \n",
        "    # compute loss\n",
        "    predictions_logp = F.log_softmax(logp_seq[:, :-1], dim=-1)\n",
        "    actual_next_tokens = batch_ix[:, 1:]\n",
        "\n",
        "    loss = -torch.mean(torch.gather(predictions_logp, dim=2, index=actual_next_tokens[:,:,None]))\n",
        "    \n",
        "    # backpropogation\n",
        "\n",
        "    loss.backward()\n",
        "    opt.step()\n",
        "    opt.zero_grad()\n",
        "    #<YOUR CODE>\n",
        "\n",
        "    \n",
        "    history.append(loss.data.numpy())\n",
        "    if (i+1)%100==0:\n",
        "        clear_output(True)\n",
        "        plt.plot(history, label='loss')\n",
        "        plt.ylabel('loss')\n",
        "        plt.xlabel('iteration')\n",
        "        plt.legend()\n",
        "\n",
        "        plt.show()"
      ],
      "execution_count": 75,
      "outputs": [
        {
          "output_type": "display_data",
          "data": {
            "image/png": "[encoded data removed]",
            "text/plain": [
              "<Figure size 432x288 with 1 Axes>"
            ]
          },
          "metadata": {
            "tags": [],
            "needs_background": "light"
          }
        }
      ]
    },
    {
      "cell_type": "code",
      "metadata": {
        "id": "5zpY7MTvRqOm"
      },
      "source": [
        "def generate_sample(char_rnn, seed_phrase=' ', max_length=MAX_LENGTH, temperature=1.0):\n",
        "    '''\n",
        "    The function generates text given a phrase of length at least SEQ_LENGTH.\n",
        "    :param seed_phrase: prefix characters. The RNN is asked to continue the phraseMAX_LENGTH\n",
        "    :param max_length: maximum output length, including seed_phrase\n",
        "    :param temperature: coefficient for sampling.  higher temperature produces more chaotic outputs,\n",
        "                        smaller temperature converges to the single most likely output\n",
        "    '''\n",
        "    \n",
        "    x_sequence = [token_to_idx[token.lower()] for token in seed_phrase]\n",
        "    x_sequence = torch.tensor([[x_sequence]], dtype=torch.int64)\n",
        "    \n",
        "    #feed the seed phrase, if any\n",
        "    for i in range(1):\n",
        "        #print(x_sequence[:, -1].shape)\n",
        "        out = char_rnn(x_sequence[:, i])\n",
        "    \n",
        "    #start generating\n",
        "    for _ in range(max_length - len(seed_phrase)):\n",
        "        # print(x_sequence.shape, x_sequence, hid_state.shape)\n",
        "        out = char_rnn(x_sequence[:, -1, :])\n",
        "        # Be really careful here with the model output\n",
        "        p_next = F.softmax(out[:, -1, :] / temperature, dim=-1).data.numpy()[0]\n",
        "        #print(p_next.shape, len(tokens))\n",
        "        next_ix = np.random.choice(len(tokens), p=p_next)\n",
        "        next_ix = torch.tensor([[next_ix]], dtype=torch.int64)\n",
        "        #print(x_sequence.shape, next_ix.shape)\n",
        "        x_sequence = torch.cat([x_sequence, next_ix.view((1,1,1))], dim=-1)\n",
        "        \n",
        "    return ''.join([tokens[ix] for ix in x_sequence.data.numpy().squeeze()])\n",
        "        "
      ],
      "execution_count": 97,
      "outputs": []
    },
    {
      "cell_type": "code",
      "metadata": {
        "colab": {
          "base_uri": "https://localhost:8080/"
        },
        "id": "M5pDv6rLQ7Nr",
        "outputId": "91db5410-506b-466e-8679-2576e6d92781"
      },
      "source": [
        "print(generate_sample(model, seed_phrase = ' to be or not', temperature = 0.6, max_length=500))"
      ],
      "execution_count": 98,
      "outputs": [
        {
          "output_type": "stream",
          "text": [
            " to be or not whis sheng arof hor sue neand theres ton thindo dore collese bos mare tore,\n",
            "                                                                                                                                                                                                                                                                                                                                                                                                                          \n"
          ],
          "name": "stdout"
        }
      ]
    },
    {
      "cell_type": "code",
      "metadata": {
        "id": "BSmc9QrQRqOm",
        "outputId": "b697439a-e795-422c-a203-26a44c849242"
      },
      "source": [
        "# An example of generated text.\n",
        "# print(generate_text(length=500, temperature=0.2))"
      ],
      "execution_count": null,
      "outputs": [
        {
          "output_type": "stream",
          "text": [
            "hide my will in thine?\n",
            "  shall will in of the simend that in my sime the seave the seave the sorll the soren the sange the seall seares and and the fart the wirl the seall the songh whing that thou hall will thoun the soond beare the with that sare the simest me the fart the wirl the songre the with thy seart so for shat so for do the dost the sing the sing the sing the soond canding the sack and the farling the wirl of sore sich and that with the seare the seall so fort the with the past the wirl the simen the wirl the sores the sare\n"
          ],
          "name": "stdout"
        }
      ]
    },
    {
      "cell_type": "markdown",
      "metadata": {
        "id": "tM5UpWS4RqOn"
      },
      "source": [
        "### More poetic model\n",
        "\n",
        "Let's use LSTM instead of vanilla RNN and compare the results."
      ]
    },
    {
      "cell_type": "markdown",
      "metadata": {
        "id": "9aTJ-j0hRqOn"
      },
      "source": [
        "Plot the loss function of the number of epochs. Does the final loss become better?"
      ]
    },
    {
      "cell_type": "code",
      "metadata": {
        "collapsed": true,
        "id": "9ogHhJL1RqOo"
      },
      "source": [
        "class CharLSTMLoop(nn.Module):\n",
        "    def __init__(self, num_tokens=len(tokens), emb_size=16, rnn_num_units=64):\n",
        "        super(self.__class__, self).__init__()\n",
        "        self.num_units = rnn_num_units\n",
        "        self.emb = nn.Embedding(num_tokens, emb_size)\n",
        "        self.lstm = nn.LSTM(emb_size, rnn_num_units, batch_first=True)\n",
        "        self.hid_to_logits = nn.Linear(rnn_num_units, num_tokens)\n",
        "        \n",
        "    def forward(self, x):\n",
        "        assert isinstance(x.data, torch.LongTensor)\n",
        "        h_seq, _ = self.lstm(self.emb(x))\n",
        "        next_logits = self.hid_to_logits(h_seq)\n",
        "        return next_logits"
      ],
      "execution_count": 99,
      "outputs": []
    },
    {
      "cell_type": "code",
      "metadata": {
        "colab": {
          "base_uri": "https://localhost:8080/",
          "height": 279
        },
        "id": "iAXLI_vms1Tf",
        "outputId": "f0f2e228-07e9-4a72-f063-72a090f62c50"
      },
      "source": [
        "char_lstm = CharLSTMLoop()\n",
        "opt = torch.optim.Adam(char_lstm.parameters())\n",
        "history = []\n",
        "\n",
        "max_iter = 5000\n",
        "batch_size = 128\n",
        "\n",
        "for i in range(max_iter):\n",
        "    batch_ix = to_matrix(sample(text, 128))\n",
        "    batch_ix = torch.tensor(batch_ix, dtype=torch.int64)    \n",
        "    logp_seq = char_lstm(batch_ix)\n",
        "    \n",
        "    # compute loss\n",
        "    predictions_logp = F.log_softmax(logp_seq[:, :-1], dim=-1)\n",
        "    actual_next_tokens = batch_ix[:, 1:]\n",
        "\n",
        "    loss = -torch.mean(torch.gather(predictions_logp, dim=2, index=actual_next_tokens[:,:,None]))\n",
        "    \n",
        "    # train with backprop\n",
        "    loss.backward()\n",
        "    opt.step()\n",
        "    opt.zero_grad()\n",
        "    \n",
        "    history.append(loss.data.numpy())\n",
        "    if (i + 1) % 100 == 0:\n",
        "        clear_output(True)\n",
        "        plt.plot(history, label='loss')\n",
        "        plt.ylabel('loss')\n",
        "        plt.xlabel('iteration')\n",
        "        plt.legend()\n",
        "        plt.show()\n",
        "\n",
        "\n"
      ],
      "execution_count": 104,
      "outputs": [
        {
          "output_type": "display_data",
          "data": {
            "image/png": "[encoded data removed]",
            "text/plain": [
              "<Figure size 432x288 with 1 Axes>"
            ]
          },
          "metadata": {
            "tags": [],
            "needs_background": "light"
          }
        }
      ]
    },
    {
      "cell_type": "markdown",
      "metadata": {
        "id": "YmQ1rgOtRqOo"
      },
      "source": [
        "Generate text using the trained net with different `temperature` parameter: `[0.1, 0.2, 0.5, 1.0, 2.0]`.\n",
        "\n",
        "Evaluate the results visually, try to interpret them."
      ]
    },
    {
      "cell_type": "code",
      "metadata": {
        "collapsed": true,
        "id": "ijIvOX1kRqOo",
        "colab": {
          "base_uri": "https://localhost:8080/"
        },
        "outputId": "16b61d65-c0ec-49eb-aa81-ed4707bb067d"
      },
      "source": [
        "# Text generation with different temperature values here\n",
        "temperatures = [0.1, 0.2, 0.5, 1.0, 2.0]\n",
        "for temperature in temperatures:\n",
        "    generated_text = generate_sample(char_lstm, seed_phrase = ' to be or not', temperature = temperature)\n",
        "    print ('Temperature = ', temperature, ':', generated_text)"
      ],
      "execution_count": 105,
      "outputs": [
        {
          "output_type": "stream",
          "text": [
            "Temperature =  0.1 :  to be or not the seet the seet stane,\n",
            "                                                                                                                                                                                                                         \n",
            "Temperature =  0.2 :  to be or not the will the with my stand,\n",
            "                                                                                                                                                                                                                      \n",
            "Temperature =  0.5 :  to be or not to the bure of their tate:\n",
            "                                                                                                                                                                                                                       \n",
            "Temperature =  1.0 :  to be or notse in doth that my;\n",
            "                                                                                                                                                                                                                               \n",
            "Temperature =  2.0 :  to be or not osty she goce,-,\n",
            "                                    p               j                                                                                   ,                                          '                                             \n"
          ],
          "name": "stdout"
        }
      ]
    },
    {
      "cell_type": "markdown",
      "metadata": {
        "id": "VW9tm2yw0dSs"
      },
      "source": [
        "Well, with temperature 0.1, 0.2, 0.5 text quite OK. But with temperature 1, 2 there is punctuational trash. And it is better than with RNN."
      ]
    },
    {
      "cell_type": "markdown",
      "metadata": {
        "id": "w3MhxSf0RqOo"
      },
      "source": [
        "### Saving and loading models"
      ]
    },
    {
      "cell_type": "markdown",
      "metadata": {
        "id": "1ml1FvHXRqOo"
      },
      "source": [
        "Save the model to the disk, then load it and generate text. Examples are available [here](https://pytorch.org/tutorials/beginner/saving_loading_models.html])."
      ]
    },
    {
      "cell_type": "code",
      "metadata": {
        "collapsed": true,
        "id": "mDb-tSJ0RqOp"
      },
      "source": [
        "# Saving and loading code here"
      ],
      "execution_count": null,
      "outputs": []
    },
    {
      "cell_type": "markdown",
      "metadata": {
        "id": "mOYhfz_aRqOp"
      },
      "source": [
        "### References\n",
        "1. <a href='http://karpathy.github.io/2015/05/21/rnn-effectiveness/'> Andrew Karpathy blog post about RNN. </a> \n",
        "There are several examples of genration: Shakespeare texts, Latex formulas, Linux Sourse Code and children names.\n",
        "2. <a href='https://github.com/karpathy/char-rnn'> Repo with char-rnn code </a>\n",
        "3. Cool repo with PyTorch examples: [link](https://github.com/spro/practical-pytorch`)"
      ]
    }
  ]
}