{
 "cells": [
  {
   "cell_type": "markdown",
   "metadata": {
    "id": "6k3bkSKZ7X6I"
   },
   "source": [
    "*Credits: materials from this notebook belong to YSDA [Practical DL](https://github.com/yandexdataschool/Practical_DL) course. Special thanks for making them available online.*"
   ]
  },
  {
   "cell_type": "markdown",
   "metadata": {
    "id": "aws_hCPs7X6O"
   },
   "source": [
    "# Lab assignment №1, part 1\n",
    "\n",
    "This lab assignment consists of several parts. You are supposed to make some transformations, train some models, estimate the quality of the models and explain your results.\n",
    "\n",
    "Several comments:\n",
    "* Don't hesitate to ask questions, it's a good practice.\n",
    "* No private/public sharing, please. The copied assignments will be graded with 0 points.\n",
    "* Blocks of this lab will be graded separately."
   ]
  },
  {
   "cell_type": "markdown",
   "metadata": {
    "id": "RCrjkRAl7X6O"
   },
   "source": [
    "## Part 1. Matrix differentiation"
   ]
  },
  {
   "cell_type": "markdown",
   "metadata": {
    "id": "8lb4Y_w_7X6P"
   },
   "source": [
    "Since it easy to google every task please please please try to undestand what's going on. The \"just answer\" thing will be not counted, make sure to present derivation of your solution. It is absolutely OK if you found an answer on web then just exercise in $\\LaTeX$ copying it into here."
   ]
  },
  {
   "cell_type": "code",
   "execution_count": null,
   "metadata": {
    "id": "90BdFaMJ7X6P"
   },
   "outputs": [],
   "source": [
    "# If on colab, uncomment the following lines\n",
    "\n",
    "# ! wget https://raw.githubusercontent.com/girafe-ai/ml-mipt/basic_f20/homeworks_basic/Lab1_ML_pipeline_and_SVM/grad.png"
   ]
  },
  {
   "cell_type": "markdown",
   "metadata": {
    "id": "R5EeNnin7X6Q"
   },
   "source": [
    "Useful links: \n",
    "[1](http://www.machinelearning.ru/wiki/images/2/2a/Matrix-Gauss.pdf)\n",
    "[2](http://www.atmos.washington.edu/~dennis/MatrixCalculus.pdf)\n",
    "[3](http://cal.cs.illinois.edu/~johannes/research/matrix%20calculus.pdf)\n",
    "[4](http://research.microsoft.com/en-us/um/people/cmbishop/prml/index.htm)"
   ]
  },
  {
   "cell_type": "markdown",
   "metadata": {
    "id": "XLrFYe7M7X6R"
   },
   "source": [
    "## ex. 1"
   ]
  },
  {
   "cell_type": "markdown",
   "metadata": {
    "id": "1XQwws7C7X6R"
   },
   "source": [
    "$$  \n",
    "y = x^Tx,  \\quad x \\in \\mathbb{R}^N \n",
    "$$"
   ]
  },
  {
   "cell_type": "markdown",
   "metadata": {
    "id": "2KkmFgzX7X6R"
   },
   "source": [
    "$$\n",
    "\\frac{dy}{dx} = 2x\n",
    "$$ "
   ]
  },
  {
   "cell_type": "markdown",
   "metadata": {
    "collapsed": true,
    "id": "3jgatHKo7X6S"
   },
   "source": [
    "#### Solution:\n",
    "$$ y = x^T x = \\sum\\limits_{k=1}^N x_i^2 $$ \n",
    "$$ \\frac{dy}{dx} = \\left(\\frac{dy}{dx_1}, \\frac{dy}{dx_2}, ..., \\frac{dy}{dx_n}\\right)^T = \\left(2x_1, 2x_2, ..., 2x_n\\right)^T = 2x $$"
   ]
  },
  {
   "cell_type": "markdown",
   "metadata": {
    "id": "wzXQ2P0K7X6T"
   },
   "source": [
    "## ex. 2"
   ]
  },
  {
   "cell_type": "markdown",
   "metadata": {
    "id": "l7iJKzfY7X6U"
   },
   "source": [
    "$$ y = tr(AB) \\quad A,B \\in \\mathbb{R}^{N \\times N} $$ "
   ]
  },
  {
   "cell_type": "markdown",
   "metadata": {
    "id": "iWEcDzaR7X6U"
   },
   "source": [
    "$$\n",
    "\\frac{dy}{dA} = B^T\n",
    "$$"
   ]
  },
  {
   "cell_type": "markdown",
   "metadata": {
    "collapsed": true,
    "id": "EyRt4YQf7X6V"
   },
   "source": [
    "#### Solution:\n",
    "$$ y = tr(AB) = \\sum\\limits_{i=1}^N a_{1i}b_{i1} + a_{2i}b_{i2} + \\cdots + a_{ni}b_{in} = \\sum\\limits_{i=1}^N \\sum\\limits_{j=1}^N a_{ji}b_{ij} $$"
   ]
  },
  {
   "cell_type": "markdown",
   "metadata": {},
   "source": [
    "\\begin{equation*}\n",
    "    \\frac{dy}{dA} = \\left(\n",
    "        \\begin{array}{cccc}\n",
    "            \\frac{\\partial y}{\\partial a_{11}} & \\frac{\\partial y}{\\partial a_{12}} & \\ldots & \\frac{\\partial y}{\\partial a_{1n}}\\\\\n",
    "            \\frac{\\partial y}{\\partial a_{21}} & \\frac{\\partial y}{\\partial a_{22}} & \\ldots & \\frac{\\partial y}{\\partial a_{2n}}\\\\\n",
    "            \\vdots & \\vdots & \\ddots & \\vdots\\\\\n",
    "            \\frac{\\partial y}{\\partial a_{n1}} & \\frac{\\partial y}{\\partial a_{n2}} & \\ldots & \\frac{\\partial y}{\\partial a_{nn}}\n",
    "        \\end{array}\n",
    "        \\right)\n",
    "\\end{equation*}"
   ]
  },
  {
   "cell_type": "markdown",
   "metadata": {},
   "source": [
    "We can see that $ \\frac{\\partial y}{\\partial a_{ij}} = b_{ji} $, then the answer is:\n",
    "$$ \\frac{dy}{dA} = B^T$$"
   ]
  },
  {
   "cell_type": "markdown",
   "metadata": {
    "id": "29sNLqKC7X6V"
   },
   "source": [
    "## ex. 3"
   ]
  },
  {
   "cell_type": "markdown",
   "metadata": {
    "id": "zCTl5buH7X6V"
   },
   "source": [
    "$$  \n",
    "y = x^TAc , \\quad A\\in \\mathbb{R}^{N \\times N}, x\\in \\mathbb{R}^{N}, c\\in \\mathbb{R}^{N} \n",
    "$$"
   ]
  },
  {
   "cell_type": "markdown",
   "metadata": {
    "id": "RY3UbYAb7X6V"
   },
   "source": [
    "$$\n",
    "\\frac{dy}{dx} = c^T A^T\n",
    "$$"
   ]
  },
  {
   "cell_type": "markdown",
   "metadata": {
    "id": "zcXl0ZDq7X6W"
   },
   "source": [
    "$$\n",
    "\\frac{dy}{dA} = xc^T\n",
    "$$ "
   ]
  },
  {
   "cell_type": "markdown",
   "metadata": {
    "id": "TYNMkPxH7X6W"
   },
   "source": [
    "Hint for the latter (one of the ways): use *ex. 2* result and the fact \n",
    "$$\n",
    "tr(ABC) = tr (CAB)\n",
    "$$"
   ]
  },
  {
   "cell_type": "markdown",
   "metadata": {
    "collapsed": true,
    "id": "zIlbOyvU7X6W"
   },
   "source": [
    "#### Solution:\n",
    "$ 1) \\ y = x^TAc \\in \\mathbb{R},$ so $ y^T = y.$ Taking into account the fact that $ \\frac{d(Ax)}{dx} = A$ we obtain:\n",
    "$$ \\frac{dy}{dx} = \\frac{y^T}{dx} = \\frac{d(c^TA^Tx)}{dx} = c^TA^T$$"
   ]
  },
  {
   "cell_type": "markdown",
   "metadata": {},
   "source": [
    "$2) \\ y = tr(y), \\ tr(x^TAc) = tr(Acx^T)$, and by ex. 2 we have:\n",
    "$$ \\frac{dy}{dA} = xc^T$$"
   ]
  },
  {
   "cell_type": "markdown",
   "metadata": {
    "id": "Z1SNeq0Q7X6W"
   },
   "source": [
    "## ex. 4"
   ]
  },
  {
   "cell_type": "markdown",
   "metadata": {
    "id": "bNsXOEzQ7X6W"
   },
   "source": [
    "Classic matrix factorization example. Given matrix $X$ you need to find $A$, $S$ to approximate $X$. This can be done by simple gradient descent iteratively alternating $A$ and $S$ updates.\n",
    "$$\n",
    "J = || X - AS ||_F^2  , \\quad A\\in \\mathbb{R}^{N \\times R} , \\quad S\\in \\mathbb{R}^{R \\times M}\n",
    "$$\n",
    "$$\n",
    "\\frac{dJ}{dS} = ? \n",
    "$$\n",
    "\n",
    "You may use one of the following approaches:"
   ]
  },
  {
   "cell_type": "markdown",
   "metadata": {
    "id": "kAYeabQu7X6X"
   },
   "source": [
    "#### First approach\n",
    "Using ex.2 and the fact:\n",
    "$$\n",
    "|| X ||_F^2 = tr(XX^T) \n",
    "$$ \n",
    "it is easy to derive gradients (you can find it in one of the refs). "
   ]
  },
  {
   "cell_type": "markdown",
   "metadata": {
    "collapsed": true,
    "id": "HcWn5QYe7X6X"
   },
   "source": [
    "#### Second approach\n",
    "You can use *slightly different techniques* if they suits you. Take a look at this derivation:\n",
    "<img src=\"https://github.com/girafe-ai/ml-mipt/blob/basic_s21/homeworks_basic/Lab1_ML_pipeline_and_SVM/grad.png?raw=1\">\n",
    "(excerpt from [Handbook of blind source separation, Jutten, page 517](https://books.google.ru/books?id=PTbj03bYH6kC&printsec=frontcover&dq=Handbook+of+Blind+Source+Separation&hl=en&sa=X&ved=0ahUKEwi-q_apiJDLAhULvXIKHVXJDWcQ6AEIHDAA#v=onepage&q=Handbook%20of%20Blind%20Source%20Separation&f=false), open for better picture)."
   ]
  },
  {
   "cell_type": "markdown",
   "metadata": {
    "collapsed": true,
    "id": "CYzpQUqM7X6Y"
   },
   "source": [
    "#### Third approach\n",
    "And finally we can use chain rule! \n",
    "let $ F = AS $ \n",
    "\n",
    "**Find**\n",
    "$$\n",
    "\\frac{dJ}{dF} =  \n",
    "$$ \n",
    "and \n",
    "$$\n",
    "\\frac{dF}{dS} =  \n",
    "$$ \n",
    "(the shape should be $ NM \\times RM )$.\n",
    "\n",
    "Now it is easy do get desired gradients:\n",
    "$$\n",
    "\\frac{dJ}{dS} =  \n",
    "$$ "
   ]
  },
  {
   "cell_type": "markdown",
   "metadata": {
    "collapsed": true,
    "id": "M2numht57X6Y"
   },
   "source": [
    "#### Solution:\n",
    "$$ J = (tr(X - F)(X - F)^T) = tr(XX^T) - 2tr(FX^T) + tr(FF^T) \\Rightarrow \\frac{dJ}{dF} = -2 X + 2F = -2X + 2AS $$\n",
    "$$ \\frac{dF}{dS} = \\frac{d(AS)}{dS} = A^T $$\n",
    "$$ \\frac{dJ}{dS} = -2 A^T X + 2A^TAS $$\n",
    "#### Answer: \n",
    "$$ -2 A^T X + 2A^TAS $$"
   ]
  },
  {
   "cell_type": "code",
   "execution_count": null,
   "metadata": {},
   "outputs": [],
   "source": []
  }
 ],
 "metadata": {
  "colab": {
   "name": "Lab1_part1_differentiation.ipynb",
   "provenance": []
  },
  "kernelspec": {
   "display_name": "Python 3",
   "language": "python",
   "name": "python3"
  },
  "language_info": {
   "codemirror_mode": {
    "name": "ipython",
    "version": 3
   },
   "file_extension": ".py",
   "mimetype": "text/x-python",
   "name": "python",
   "nbconvert_exporter": "python",
   "pygments_lexer": "ipython3",
   "version": "3.9.2"
  }
 },
 "nbformat": 4,
 "nbformat_minor": 1
}
